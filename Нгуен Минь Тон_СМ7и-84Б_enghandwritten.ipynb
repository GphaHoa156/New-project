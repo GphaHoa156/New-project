{
 "cells": [
  {
   "cell_type": "markdown",
   "metadata": {},
   "source": [
    "imported libraries"
   ]
  },
  {
   "cell_type": "code",
   "execution_count": 1,
   "metadata": {},
   "outputs": [],
   "source": [
    "import matplotlib.pyplot as plt\n",
    "from torchvision import datasets, transforms\n",
    "import torchvision\n",
    "import torch\n",
    "import torch.nn as nn\n",
    "import torch.optim as optim\n",
    "from torch.utils.data import Dataset, DataLoader, random_split, Subset, ConcatDataset\n",
    "import numpy as np\n",
    "from sklearn.metrics import confusion_matrix, classification_report"
   ]
  },
  {
   "cell_type": "markdown",
   "metadata": {},
   "source": [
    "Split dataset and create data loader"
   ]
  },
  {
   "cell_type": "code",
   "execution_count": 2,
   "metadata": {},
   "outputs": [],
   "source": [
    "transform = transforms.Compose([\n",
    "    transforms.Resize((32, 32)),   # Chuyển kích thước hình ảnh về 32x32\n",
    "    transforms.ToTensor()          # Chuyển đổi hình ảnh thành Tensor\n",
    "])\n",
    "dataset = datasets.ImageFolder(root='C:\\\\Users\\\\Administrator\\\\Desktop\\\\AI\\\\eng_handwritten', transform=transform)\n",
    "\n",
    "# Split dataset into 2, 1 for uppercase and 1 for lowercase\n",
    "mid_point = len(dataset) // 2\n",
    "first_half = Subset(dataset, np.arange(0, mid_point))\n",
    "second_half = Subset(dataset, np.arange(mid_point, len(dataset)))\n",
    "\n",
    "# Take 80% of each half as training data\n",
    "first_half_train, first_half_test = random_split(first_half, [int(0.8 * len(first_half)), len(first_half) - int(0.8 * len(first_half))])\n",
    "second_half_train, second_half_test = random_split(second_half, [int(0.8 * len(second_half)), len(second_half) - int(0.8 * len(second_half))])\n",
    "\n",
    "# add them into 1 dataset\n",
    "\n",
    "train_dataset = ConcatDataset([first_half_train, second_half_train])\n",
    "test_dataset = ConcatDataset([first_half_test, second_half_test])\n",
    "\n",
    "# Create DataLoader\n",
    "\n",
    "train_loader = DataLoader(train_dataset, batch_size=64, shuffle=True)\n",
    "test_loader = DataLoader(test_dataset, batch_size=64, shuffle=False)\n",
    "\n"
   ]
  },
  {
   "cell_type": "markdown",
   "metadata": {},
   "source": [
    "Test tập dữ liệu"
   ]
  },
  {
   "cell_type": "code",
   "execution_count": 3,
   "metadata": {},
   "outputs": [
    {
     "name": "stdout",
     "output_type": "stream",
     "text": [
      "Number of classes: 26\n",
      "Number of images: 2860\n"
     ]
    },
    {
     "data": {
      "image/png": "[encoded data removed]",
      "text/plain": [
       "<Figure size 640x480 with 1 Axes>"
      ]
     },
     "metadata": {},
     "output_type": "display_data"
    }
   ],
   "source": [
    "print(\"Number of classes:\", len(dataset.classes))\n",
    "print(\"Number of images:\", len(dataset))\n",
    "\n",
    "# Additionally, show a sample image to verify transformations\n",
    "\n",
    "def imshow(img):\n",
    "    img = img.numpy().transpose((1, 2, 0))  # convert from Tensor image\n",
    "    plt.imshow(img)\n",
    "    plt.show()\n",
    "\n",
    "# Get a sample from the dataset\n",
    "dataiter = iter(train_loader)\n",
    "images, labels = next(dataiter)\n",
    "imshow(torchvision.utils.make_grid(images[0]))"
   ]
  },
  {
   "cell_type": "markdown",
   "metadata": {},
   "source": [
    "LINEAR MODEL"
   ]
  },
  {
   "cell_type": "code",
   "execution_count": 4,
   "metadata": {},
   "outputs": [
    {
     "name": "stdout",
     "output_type": "stream",
     "text": [
      "Epoch 1/10, Loss: 3.8639866709709167\n"
     ]
    }
   ],
   "source": [
    "#LINEAR MODEL\n",
    "class LinearModel(nn.Module):\n",
    "    def __init__(self):\n",
    "        super(LinearModel, self).__init__()\n",
    "        self.flatten = nn.Flatten()\n",
    "        self.linear = nn.Linear(32*32*3,26)\n",
    "\n",
    "    def forward(self, x):\n",
    "        x = self.flatten(x)\n",
    "        x = self.linear(x)\n",
    "        return x\n",
    "linear_model = LinearModel()\n",
    "\n",
    "#define loss function and optimizer\n",
    "criterion = nn.CrossEntropyLoss()\n",
    "optimizer = optim.Adam(linear_model.parameters(), lr=0.001)\n",
    "\n",
    "#training model\n",
    "def train_model_linear(model, train_loader, criterion, optimizer, num_epochs=10):\n",
    "    model.train()\n",
    "    \n",
    "    for epoch in range(num_epochs):\n",
    "        running_loss = 0.0\n",
    "        for images, labels in train_loader:\n",
    "            optimizer.zero_grad()\n",
    "            outputs = model(images)\n",
    "            loss = criterion(outputs, labels)\n",
    "            loss.backward()\n",
    "            optimizer.step()\n",
    "            running_loss += loss.item()\n",
    "        epoch_loss = running_loss / len(train_loader)\n",
    "        print(f'Epoch {epoch+1}/{num_epochs}, Loss: {epoch_loss}')\n",
    "   \n",
    "train_model_linear(linear_model, train_loader, criterion, optimizer)\n"
   ]
  },
  {
   "cell_type": "markdown",
   "metadata": {},
   "source": [
    "TEST FOR LINEAR MODEL"
   ]
  },
  {
   "cell_type": "code",
   "execution_count": null,
   "metadata": {},
   "outputs": [
    {
     "name": "stdout",
     "output_type": "stream",
     "text": [
      "Loss: 2.6759, Accuracy: 27.27%\n",
      "Confusion Matrix:\n",
      " [[ 2  0  2  0  2  0  1  0  0  0  0  0  5  0  0  0  1  3  1  0  0  0  0  2\n",
      "   0  0]\n",
      " [ 0  9  1  0  0  0  3  0  2  0  0  1  1  0  0  0  0  3  3  1  1  3  0  0\n",
      "   0  0]\n",
      " [ 0  0 12  0  0  0  0  0  4  0  0  2  0  0  0  0  0  1  0  0  2  0  0  0\n",
      "   0  0]\n",
      " [ 0  0  1  7  0  0  0  0  0  1  0  0  0  0  0  1  0  0  0  0  0  3  0  4\n",
      "   0  8]\n",
      " [ 0  0  3  0  8  0  0  0  0  0  0  1  1  0  0  0  0  2  0  3  1  0  0  3\n",
      "   0  0]\n",
      " [ 0  0  3  0  2  1  2  0  0  4  0  0  1  0  0  3  0  0  0  1  0  1  0  0\n",
      "   0  0]\n",
      " [ 0  1  0  2  0  0  6  1  0  0  0  0  0  0  0  1  2  2  2  0  0  0  0  1\n",
      "   0  0]\n",
      " [ 0  0  0  0  1  0  0  3  1  0  0  0  5  0  0  0  0  4  1  0  0  3  0  4\n",
      "   0  0]\n",
      " [ 0  0  1  0  0  0  0  0  9  3  0  3  0  0  0  0  0  0  1  5  0  4  0  2\n",
      "   0  0]\n",
      " [ 0  0  0  0  0  0  1  0  2  9  0  0  0  0  0  1  0  0  0  1  0  0  0  0\n",
      "   0  0]\n",
      " [ 0  1  2  0  3  0  0  0  0  0  0  1  2  0  0  0  0  2  0  0  1  0  0  8\n",
      "   0  0]\n",
      " [ 0  0  4  0  0  0  0  0 10  2  0  6  0  0  0  0  0  0  1  0  0  0  0  1\n",
      "   0  0]\n",
      " [ 2  0  1  0  0  0  0  0  1  0  0  0 15  2  0  1  0  3  0  0  1  1  0  0\n",
      "   0  0]\n",
      " [ 0  0  1  0  2  0  0  2  0  0  0  0  8  0  0  1  0  3  0  0  0  5  0  0\n",
      "   0  0]\n",
      " [ 0  0  7  1  2  0  0  0  0  0  0  2  0  0  2  0  1  2  0  2  1  1  0  1\n",
      "   0  1]\n",
      " [ 1  0  0  0  0  0  1  0  0  0  0  0  0  0  0  6  0  2  0  3  0  1  0  0\n",
      "   0  0]\n",
      " [ 0  0  1  3  1  0  2  0  0  0  0  1  3  1  0  0  1  2  1  0  0  0  0  2\n",
      "   0  0]\n",
      " [ 0  0  1  0  1  0  0  1  0  0  0  0  1  0  0  1  1  4  0  3  0  4  0  2\n",
      "   0  0]\n",
      " [ 0  0  1  0  0  0  0  0  1  1  0  1  0  0  0  0  0  0  9  2  1  0  0  5\n",
      "   0  0]\n",
      " [ 0  0  0  0  2  0  0  0  3  0  0  1  0  0  0  0  0  2  0  8  0  2  0  5\n",
      "   0  0]\n",
      " [ 0  0  2  0  0  0  1  0  0  0  0  1  1  0  0  0  0  0  0  0  8  7  0  4\n",
      "   0  0]\n",
      " [ 0  0  0  0  0  0  0  0  0  1  0  0  0  0  0  1  0  3  1  2  0 12  0  4\n",
      "   0  1]\n",
      " [ 0  0  2  1  0  0  0  0  0  2  0  0  7  0  0  0  0  0  1  0  4  3  1  0\n",
      "   0  0]\n",
      " [ 0  0  0  0  1  0  0  0  2  0  0  1  1  0  0  1  0  5  1  0  0  3  0 10\n",
      "   0  1]\n",
      " [ 0  0  0  0  0  0  3  0  1  1  0  1  0  0  0  4  0  0  0  5  2  3  0  3\n",
      "   0  0]\n",
      " [ 0  0  2  0  3  0  0  0  0  1  0  1  0  0  0  2  0  1  0  0  1  4  0  4\n",
      "   0  8]]\n",
      "Classification Report:\n",
      "               precision    recall  f1-score   support\n",
      "\n",
      "     Class 0       0.40      0.11      0.17        19\n",
      "     Class 1       0.82      0.32      0.46        28\n",
      "     Class 2       0.26      0.57      0.35        21\n",
      "     Class 3       0.50      0.28      0.36        25\n",
      "     Class 4       0.29      0.36      0.32        22\n",
      "     Class 5       1.00      0.06      0.11        18\n",
      "     Class 6       0.30      0.33      0.32        18\n",
      "     Class 7       0.43      0.14      0.21        22\n",
      "     Class 8       0.25      0.32      0.28        28\n",
      "     Class 9       0.36      0.64      0.46        14\n",
      "    Class 10       0.00      0.00      0.00        20\n",
      "    Class 11       0.26      0.25      0.26        24\n",
      "    Class 12       0.29      0.56      0.38        27\n",
      "    Class 13       0.00      0.00      0.00        22\n",
      "    Class 14       1.00      0.09      0.16        23\n",
      "    Class 15       0.26      0.43      0.32        14\n",
      "    Class 16       0.17      0.06      0.08        18\n",
      "    Class 17       0.09      0.21      0.13        19\n",
      "    Class 18       0.41      0.43      0.42        21\n",
      "    Class 19       0.22      0.35      0.27        23\n",
      "    Class 20       0.35      0.33      0.34        24\n",
      "    Class 21       0.20      0.48      0.28        25\n",
      "    Class 22       1.00      0.05      0.09        21\n",
      "    Class 23       0.15      0.38      0.22        26\n",
      "    Class 24       0.00      0.00      0.00        23\n",
      "    Class 25       0.42      0.30      0.35        27\n",
      "\n",
      "    accuracy                           0.27       572\n",
      "   macro avg       0.36      0.27      0.24       572\n",
      "weighted avg       0.36      0.27      0.25       572\n",
      "\n"
     ]
    },
    {
     "name": "stderr",
     "output_type": "stream",
     "text": [
      "c:\\Users\\Administrator\\AppData\\Local\\Programs\\Python\\Python311\\Lib\\site-packages\\sklearn\\metrics\\_classification.py:1509: UndefinedMetricWarning: Precision is ill-defined and being set to 0.0 in labels with no predicted samples. Use `zero_division` parameter to control this behavior.\n",
      "  _warn_prf(average, modifier, f\"{metric.capitalize()} is\", len(result))\n",
      "c:\\Users\\Administrator\\AppData\\Local\\Programs\\Python\\Python311\\Lib\\site-packages\\sklearn\\metrics\\_classification.py:1509: UndefinedMetricWarning: Precision is ill-defined and being set to 0.0 in labels with no predicted samples. Use `zero_division` parameter to control this behavior.\n",
      "  _warn_prf(average, modifier, f\"{metric.capitalize()} is\", len(result))\n",
      "c:\\Users\\Administrator\\AppData\\Local\\Programs\\Python\\Python311\\Lib\\site-packages\\sklearn\\metrics\\_classification.py:1509: UndefinedMetricWarning: Precision is ill-defined and being set to 0.0 in labels with no predicted samples. Use `zero_division` parameter to control this behavior.\n",
      "  _warn_prf(average, modifier, f\"{metric.capitalize()} is\", len(result))\n"
     ]
    },
    {
     "data": {
      "image/png": "[encoded data removed]",
      "text/plain": [
       "<Figure size 640x480 with 1 Axes>"
      ]
     },
     "metadata": {},
     "output_type": "display_data"
    },
    {
     "data": {
      "image/png": "[encoded data removed]",
      "text/plain": [
       "<Figure size 640x480 with 1 Axes>"
      ]
     },
     "metadata": {},
     "output_type": "display_data"
    },
    {
     "data": {
      "image/png": "[encoded data removed]",
      "text/plain": [
       "<Figure size 640x480 with 1 Axes>"
      ]
     },
     "metadata": {},
     "output_type": "display_data"
    }
   ],
   "source": [
    "# evaluate test data\n",
    "def evaluate_model(model, data_loader):\n",
    "    model.eval()\n",
    "    total_loss = 0\n",
    "    all_predicted = []\n",
    "    all_labels = []\n",
    "    \n",
    "    with torch.no_grad():\n",
    "        for images, labels in data_loader:\n",
    "            outputs = model(images)\n",
    "            loss = criterion(outputs, labels)\n",
    "            total_loss += loss.item() * images.size(0)\n",
    "            _, predicted = torch.max(outputs, 1)\n",
    "            all_predicted.extend(predicted.cpu().numpy())\n",
    "            all_labels.extend(labels.cpu().numpy())\n",
    "\n",
    "    avg_loss = total_loss / len(data_loader.dataset)\n",
    "    accuracy = 100 * np.sum(np.array(all_predicted) == np.array(all_labels)) / len(all_labels)\n",
    "    print(f'Loss: {avg_loss:.4f}, Accuracy: {accuracy:.2f}%')\n",
    "\n",
    "    # Calculate Confusion Matrix\n",
    "    \n",
    "    cm = confusion_matrix(all_labels, all_predicted)\n",
    "    print(\"Confusion Matrix:\\n\", cm)\n",
    "    \n",
    "    # Classification Report\n",
    "    clr = classification_report(all_labels, all_predicted, target_names=[f'Class {i}' for i in range(len(np.unique(all_labels)))])\n",
    "    print(\"Classification Report:\\n\", clr)\n",
    "    \n",
    "    return avg_loss, accuracy, cm, clr\n",
    "\n",
    "linear_loss, linear_accuracy, linear_cm, linear_clr = evaluate_model(linear_model, test_loader)\n",
    "# print results\n",
    "\n",
    "def predict_image(image, model):\n",
    "    # Chuyển mô hình sang chế độ đánh giá\n",
    "    model.eval()\n",
    "    \n",
    "    # Tạo một batch từ hình ảnh đầu vào\n",
    "    image = image.unsqueeze(0)  # Thêm một chiều batch ở đầu\n",
    "    \n",
    "    # Thực hiện dự đoán\n",
    "    with torch.no_grad():\n",
    "        outputs = model(image)\n",
    "        _, predicted = torch.max(outputs.data, 1)\n",
    "        return predicted.item()\n",
    "\n",
    "def imshow(img, label, predicted_label):\n",
    "   \n",
    "    if torch.is_tensor(img):\n",
    "        img = img.cpu().numpy()  \n",
    "    \n",
    "    # If img is a tensor with 3 channels (C, H, W), change it to (H, W, C)\n",
    "    if img.shape[0] == 3:  # Check if it has 3 channels\n",
    "        img = img.transpose((1, 2, 0))  # Change (C, H, W) to (H, W, C)\n",
    "    \n",
    "    plt.imshow(img)  \n",
    "    plt.title(f'Actual: {label}, Predicted: {predicted_label}')\n",
    "    plt.show()\n",
    "\n",
    "dataiter = iter(test_loader)\n",
    "for i in range(3):\n",
    "    images, labels = next(dataiter)\n",
    "    idx = torch.randint(len(images), (1,)).item()\n",
    "    single_image = images[idx]\n",
    "    true_label = chr(65 + labels[idx].item())  # Chuyển đổi label số thành chữ\n",
    "\n",
    "    # Dự đoán nhãn của hình ảnh\n",
    "    predicted_label = chr(65+predict_image(single_image, linear_model))\n",
    "\n",
    "    # Hiển thị hình ảnh và nhãn\n",
    "    imshow(single_image, true_label, predicted_label)"
   ]
  },
  {
   "cell_type": "markdown",
   "metadata": {},
   "source": [
    "CNN MODEL"
   ]
  },
  {
   "cell_type": "code",
   "execution_count": null,
   "metadata": {},
   "outputs": [
    {
     "name": "stdout",
     "output_type": "stream",
     "text": [
      "Epoch 1, Loss: 3.253659705320994\n",
      "Epoch 2, Loss: 3.0623311201731362\n",
      "Epoch 3, Loss: 2.524896356794569\n",
      "Epoch 4, Loss: 2.0753108825948505\n",
      "Epoch 5, Loss: 1.7541134821044073\n",
      "Epoch 6, Loss: 1.505976117319531\n",
      "Epoch 7, Loss: 1.3499595986472235\n",
      "Epoch 8, Loss: 1.1969206879536312\n",
      "Epoch 9, Loss: 1.101454077495469\n",
      "Epoch 10, Loss: 1.002396187848515\n"
     ]
    }
   ],
   "source": [
    "class CNN(nn.Module):\n",
    "    def __init__(self):\n",
    "        super(CNN, self).__init__()\n",
    "        self.conv1 = nn.Conv2d(3, 16, 3, 1, padding=1)  # Adjust to accept 3 input channels\n",
    "        self.conv2 = nn.Conv2d(16, 32, 3, 1, padding=1)\n",
    "        self.pool = nn.MaxPool2d(2, 2)\n",
    "        self.relu = nn.ReLU()\n",
    "        # After two pooling layers, the image size is reduced to 8x8 (32 -> 16 -> 8)\n",
    "        self.fc1 = nn.Linear(32 * 8 * 8, 128)  # Adjust dimensions for the flattened layer\n",
    "        self.fc2 = nn.Linear(128, 26)  # 26 output classes for A-Z\n",
    "\n",
    "    def forward(self, x):\n",
    "        x = self.pool(self.relu(self.conv1(x)))\n",
    "        x = self.pool(self.relu(self.conv2(x)))\n",
    "        x = torch.flatten(x, 1)  # Flatten the tens d layer\n",
    "        x = self.relu(self.fc1(x))\n",
    "        x = self.fc2(x)\n",
    "        return x\n",
    "CNN_model = CNN()\n",
    "criterion = nn.CrossEntropyLoss()\n",
    "optimizer = optim.Adam(CNN_model.parameters(), lr=0.001)\n",
    "def train_model_CNN(model, criterion, optimizer, epochs=10):\n",
    "    \n",
    "    for epoch in range(epochs):\n",
    "        running_loss = 0.0\n",
    "        for images, labels in train_loader:\n",
    "            optimizer.zero_grad()\n",
    "            outputs = model(images)\n",
    "            loss = criterion(outputs, labels)  \n",
    "            loss.backward()\n",
    "            optimizer.step()\n",
    "            running_loss += loss.item()\n",
    "        epoch_loss = running_loss / len(train_loader)\n",
    "        print(f'Epoch {epoch + 1}, Loss: {epoch_loss}')\n",
    "       \n",
    "train_model_CNN(CNN_model, criterion, optimizer)\n",
    "\n"
   ]
  },
  {
   "cell_type": "markdown",
   "metadata": {},
   "source": [
    "TEST FOR CNN MODEL"
   ]
  },
  {
   "cell_type": "code",
   "execution_count": null,
   "metadata": {},
   "outputs": [
    {
     "name": "stdout",
     "output_type": "stream",
     "text": [
      "Loss: 1.2426, Accuracy: 59.27%\n",
      "Confusion Matrix:\n",
      " [[ 5  0  1  0  0  0  0  7  0  1  0  0  1  1  0  0  0  0  0  0  1  0  1  1\n",
      "   0  0]\n",
      " [ 0 18  0  0  0  0  0  2  0  0  0  0  0  0  0  0  2  1  0  1  4  0  0  0\n",
      "   0  0]\n",
      " [ 0  0 15  0  3  0  1  0  0  0  1  1  0  0  0  0  0  0  0  0  0  0  0  0\n",
      "   0  0]\n",
      " [ 1  0  0 14  0  0  0  0  0  0  1  2  0  0  2  0  0  0  0  0  3  1  0  1\n",
      "   0  0]\n",
      " [ 0  1  3  0 13  0  0  0  1  0  0  0  0  0  0  0  0  0  0  2  1  0  0  0\n",
      "   0  1]\n",
      " [ 0  0  0  0  1  9  1  0  0  1  0  0  0  0  0  2  0  0  1  3  0  0  0  0\n",
      "   0  0]\n",
      " [ 0  1  0  2  0  0  8  0  0  0  0  0  0  0  0  0  5  1  0  0  0  0  0  0\n",
      "   0  1]\n",
      " [ 0  0  0  0  0  0  0 14  0  0  0  0  0  1  0  2  1  0  0  0  1  1  2  0\n",
      "   0  0]\n",
      " [ 0  0  0  0  0  1  0  0 15  1  0  7  0  0  0  0  1  0  0  1  0  2  0  0\n",
      "   0  0]\n",
      " [ 0  0  0  0  0  0  0  0  0 11  0  0  0  0  0  1  0  0  0  0  0  1  0  0\n",
      "   0  1]\n",
      " [ 0  0  1  0  0  0  0  0  0  0 13  0  1  0  1  1  0  0  0  1  1  1  0  0\n",
      "   0  0]\n",
      " [ 0  0  0  1  0  0  0  0  5  0  0 16  0  0  0  0  0  0  0  1  0  0  0  1\n",
      "   0  0]\n",
      " [ 1  0  0  0  0  0  0  2  0  0  0  0 10 11  1  0  0  1  0  0  0  1  0  0\n",
      "   0  0]\n",
      " [ 0  0  0  0  0  0  0  3  0  0  0  0  3  9  0  0  0  0  0  0  4  0  3  0\n",
      "   0  0]\n",
      " [ 0  1  0  3  1  0  0  0  0  0  0  0  0  0 11  0  5  1  0  0  1  0  0  0\n",
      "   0  0]\n",
      " [ 0  0  0  0  0  0  0  0  0  0  0  0  0  0  0 11  1  2  0  0  0  0  0  0\n",
      "   0  0]\n",
      " [ 0  0  1  1  0  0  0  0  0  0  0  0  0  1  2  0 11  1  0  1  0  0  0  0\n",
      "   0  0]\n",
      " [ 1  1  0  0  0  0  0  0  0  0  3  0  0  2  0  0  2  7  0  1  0  1  0  0\n",
      "   1  0]\n",
      " [ 0  0  2  0  1  0  1  0  0  0  0  0  0  0  0  0  0  0 14  1  0  0  0  2\n",
      "   0  0]\n",
      " [ 0  3  0  0  1  0  0  0  1  0  3  1  0  0  0  1  0  2  0 10  0  0  0  0\n",
      "   1  0]\n",
      " [ 0  0  0  0  0  0  0  0  0  0  1  0  0  0  0  0  0  0  0  0 21  0  2  0\n",
      "   0  0]\n",
      " [ 0  0  0  0  0  0  0  1  0  0  0  0  0  1  0  0  0  1  0  0  1 21  0  0\n",
      "   0  0]\n",
      " [ 0  0  0  0  0  0  0  0  0  0  0  1  0  1  0  0  0  0  1  0  3  0 15  0\n",
      "   0  0]\n",
      " [ 1  0  1  1  0  0  0  2  0  0  1  0  0  0  0  0  0  1  0  2  0  0  0 14\n",
      "   0  3]\n",
      " [ 0  0  0  0  0  0  0  0  0  2  0  0  0  0  0  2  0  0  1  0  1  3  0  0\n",
      "  14  0]\n",
      " [ 0  0  0  0  2  0  0  0  0  0  0  1  0  0  0  0  1  0  0  1  0  0  0  2\n",
      "   0 20]]\n",
      "Classification Report:\n",
      "               precision    recall  f1-score   support\n",
      "\n",
      "     Class 0       0.56      0.26      0.36        19\n",
      "     Class 1       0.72      0.64      0.68        28\n",
      "     Class 2       0.62      0.71      0.67        21\n",
      "     Class 3       0.64      0.56      0.60        25\n",
      "     Class 4       0.59      0.59      0.59        22\n",
      "     Class 5       0.90      0.50      0.64        18\n",
      "     Class 6       0.73      0.44      0.55        18\n",
      "     Class 7       0.45      0.64      0.53        22\n",
      "     Class 8       0.68      0.54      0.60        28\n",
      "     Class 9       0.69      0.79      0.73        14\n",
      "    Class 10       0.57      0.65      0.60        20\n",
      "    Class 11       0.55      0.67      0.60        24\n",
      "    Class 12       0.67      0.37      0.48        27\n",
      "    Class 13       0.33      0.41      0.37        22\n",
      "    Class 14       0.65      0.48      0.55        23\n",
      "    Class 15       0.55      0.79      0.65        14\n",
      "    Class 16       0.38      0.61      0.47        18\n",
      "    Class 17       0.39      0.37      0.38        19\n",
      "    Class 18       0.82      0.67      0.74        21\n",
      "    Class 19       0.40      0.43      0.42        23\n",
      "    Class 20       0.50      0.88      0.64        24\n",
      "    Class 21       0.66      0.84      0.74        25\n",
      "    Class 22       0.65      0.71      0.68        21\n",
      "    Class 23       0.67      0.54      0.60        26\n",
      "    Class 24       0.88      0.61      0.72        23\n",
      "    Class 25       0.77      0.74      0.75        27\n",
      "\n",
      "    accuracy                           0.59       572\n",
      "   macro avg       0.62      0.59      0.59       572\n",
      "weighted avg       0.62      0.59      0.59       572\n",
      "\n"
     ]
    },
    {
     "data": {
      "image/png": "[encoded data removed]",
      "text/plain": [
       "<Figure size 640x480 with 1 Axes>"
      ]
     },
     "metadata": {},
     "output_type": "display_data"
    },
    {
     "data": {
      "image/png": "[encoded data removed]",
      "text/plain": [
       "<Figure size 640x480 with 1 Axes>"
      ]
     },
     "metadata": {},
     "output_type": "display_data"
    },
    {
     "data": {
      "image/png": "[encoded data removed]",
      "text/plain": [
       "<Figure size 640x480 with 1 Axes>"
      ]
     },
     "metadata": {},
     "output_type": "display_data"
    }
   ],
   "source": [
    "#evaluate test dataset\n",
    "  \n",
    "CNN_loss, CNN_accuracy, CNN_cm, CNN_clr = evaluate_model(CNN_model, test_loader)\n",
    "\n",
    "for i in range(3):\n",
    "    images, labels = next(dataiter)\n",
    "    idx = torch.randint(len(images), (1,)).item()\n",
    "    single_image = images[idx]\n",
    "    true_label = chr(65 + labels[idx].item())  # Chuyển đổi label số thành chữ\n",
    "\n",
    "    # Dự đoán nhãn của hình ảnh\n",
    "    predicted_label = chr(65+predict_image(single_image, CNN_model))\n",
    "\n",
    "    # Hiển thị hình ảnh và nhãn\n",
    "    imshow(single_image, true_label, predicted_label)"
   ]
  },
  {
   "cell_type": "markdown",
   "metadata": {},
   "source": [
    "Comparison of  2 model( both using learning rate = 0.001 and 10 epochs): \n",
    "    \n",
    "    - Learning time is almost the same, 4'43' for CNN and 4'38' for Linear    \n",
    "    - Linear model has low accuracy (27%) because it is not suitable for a non-linear classification like classifying image\n",
    "    - CNN model have better accuracy but it is also not too high (60%) and has a litte overfitting(need to change epoch lower than 10, maybe 9), its seem CNN is a good method to increase accuracy but need bigger training dataset\n",
    "    - Some changes i haved tried:\n",
    "        + increasing learning rate to 0.005: linear model has no big different, CNN model increase in accuracy but become too overfitting\n",
    "        + using more than 10 epoch: same as increasing learning rate, the change of loss function is small after 18 epochs"
   ]
  }
 ],
 "metadata": {
  "kernelspec": {
   "display_name": "Python 3",
   "language": "python",
   "name": "python3"
  },
  "language_info": {
   "codemirror_mode": {
    "name": "ipython",
    "version": 3
   },
   "file_extension": ".py",
   "mimetype": "text/x-python",
   "name": "python",
   "nbconvert_exporter": "python",
   "pygments_lexer": "ipython3",
   "version": "3.11.5"
  }
 },
 "nbformat": 4,
 "nbformat_minor": 2
}
